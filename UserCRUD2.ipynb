{
 "cells": [
  {
   "cell_type": "code",
   "execution_count": null,
   "metadata": {},
   "outputs": [],
   "source": [
    "list = {} #dict 선언\n",
    "mem = [] #list 선언\n",
    "while(True):\n",
    "    inputa = input(\"회원정보 추가(c), 리스트보기(r), 수정(u), 삭제(d), 검색(s), 종료(x)\")\n",
    "    \n",
    "    if(inputa=='c'):\n",
    "            insert = input(\"회원번호,이름,전화:\")\n",
    "            mem = insert.split(',')\n",
    "            num,name,phone = mem\n",
    "            list = {'num':num,'name':name,'phone':phone}\n",
    "                        \n",
    "    elif(inputa=='r'):\n",
    "        for k,v in list.items():\n",
    "            print(k,v)\n",
    "    \n",
    "    elif(inputa=='u'):\n",
    "        newPhone = int(input(\"새 전화번호:\"))\n",
    "        for m in list.items():\n",
    "            if(m[0]==num):\n",
    "                m[2] = newPhone\n",
    "                break\n",
    "                        \n",
    "    elif(inputa=='d'):\n",
    "        delNum = input(\"삭제할 회원번호:\")\n",
    "        for m in list.items():\n",
    "            if(delNum==m.num):\n",
    "                list.remove(m)\n",
    "                break\n",
    "    \n",
    "    elif(inputa=='s'):\n",
    "        searchNum = int(input(\"검색할 회원번호:\"))\n",
    "        for m in list.items():\n",
    "            if(searchNum==m.num):\n",
    "                num = searchNum\n",
    "                print(m)\n",
    "                break\n",
    "                        \n",
    "    elif(inputa=='x'):\n",
    "        break\n",
    "        \n",
    "print('프로그램종료...')"
   ]
  }
 ],
 "metadata": {
  "kernelspec": {
   "display_name": "Python 3",
   "language": "python",
   "name": "python3"
  },
  "language_info": {
   "codemirror_mode": {
    "name": "ipython",
    "version": 3
   },
   "file_extension": ".py",
   "mimetype": "text/x-python",
   "name": "python",
   "nbconvert_exporter": "python",
   "pygments_lexer": "ipython3",
   "version": "3.8.5"
  }
 },
 "nbformat": 4,
 "nbformat_minor": 4
}
